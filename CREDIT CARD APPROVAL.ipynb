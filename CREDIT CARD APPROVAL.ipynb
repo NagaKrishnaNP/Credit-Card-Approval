{
 "cells": [
  {
   "cell_type": "code",
   "execution_count": 73,
   "id": "5a98ff6a",
   "metadata": {},
   "outputs": [],
   "source": [
    "import pandas as pd\n",
    "import numpy as np\n",
    "import seaborn as sns\n",
    "import matplotlib.pyplot as plt\n",
    "from sklearn.model_selection import train_test_split\n",
    "from sklearn.metrics import accuracy_score \n",
    "from sklearn.preprocessing import OrdinalEncoder\n",
    "from sklearn.tree import DecisionTreeClassifier\n",
    "from sklearn.ensemble import GradientBoostingClassifier\n",
    "from sklearn.neighbors import KNeighborsClassifier\n",
    "from pandas import DataFrame"
   ]
  },
  {
   "cell_type": "code",
   "execution_count": 74,
   "id": "5a8582ba",
   "metadata": {},
   "outputs": [],
   "source": [
    "header_names=['Risk Level','Annual Income','Balance','Card type','Gender','Qualification','Martial Status','Years of Employment','Defaulted Credit','Existing','Dependents','Installment plans','Property Status','Duration of credit','Limit','Status']\n",
    "# Load dataset\n",
    "data=pd.read_csv('crx.data',names=header_names)"
   ]
  },
  {
   "cell_type": "code",
   "execution_count": 75,
   "id": "02f63f63",
   "metadata": {},
   "outputs": [
    {
     "data": {
      "text/html": [
       "<div>\n",
       "<style scoped>\n",
       "    .dataframe tbody tr th:only-of-type {\n",
       "        vertical-align: middle;\n",
       "    }\n",
       "\n",
       "    .dataframe tbody tr th {\n",
       "        vertical-align: top;\n",
       "    }\n",
       "\n",
       "    .dataframe thead th {\n",
       "        text-align: right;\n",
       "    }\n",
       "</style>\n",
       "<table border=\"1\" class=\"dataframe\">\n",
       "  <thead>\n",
       "    <tr style=\"text-align: right;\">\n",
       "      <th></th>\n",
       "      <th>Risk Level</th>\n",
       "      <th>Annual Income</th>\n",
       "      <th>Balance</th>\n",
       "      <th>Card type</th>\n",
       "      <th>Gender</th>\n",
       "      <th>Qualification</th>\n",
       "      <th>Martial Status</th>\n",
       "      <th>Years of Employment</th>\n",
       "      <th>Defaulted Credit</th>\n",
       "      <th>Existing</th>\n",
       "      <th>Dependents</th>\n",
       "      <th>Installment plans</th>\n",
       "      <th>Property Status</th>\n",
       "      <th>Duration of credit</th>\n",
       "      <th>Limit</th>\n",
       "      <th>Status</th>\n",
       "    </tr>\n",
       "  </thead>\n",
       "  <tbody>\n",
       "    <tr>\n",
       "      <th>0</th>\n",
       "      <td>b</td>\n",
       "      <td>30.83</td>\n",
       "      <td>0.000</td>\n",
       "      <td>u</td>\n",
       "      <td>g</td>\n",
       "      <td>w</td>\n",
       "      <td>v</td>\n",
       "      <td>1.25</td>\n",
       "      <td>t</td>\n",
       "      <td>t</td>\n",
       "      <td>1</td>\n",
       "      <td>f</td>\n",
       "      <td>g</td>\n",
       "      <td>00202</td>\n",
       "      <td>0</td>\n",
       "      <td>+</td>\n",
       "    </tr>\n",
       "    <tr>\n",
       "      <th>1</th>\n",
       "      <td>a</td>\n",
       "      <td>58.67</td>\n",
       "      <td>4.460</td>\n",
       "      <td>u</td>\n",
       "      <td>g</td>\n",
       "      <td>q</td>\n",
       "      <td>h</td>\n",
       "      <td>3.04</td>\n",
       "      <td>t</td>\n",
       "      <td>t</td>\n",
       "      <td>6</td>\n",
       "      <td>f</td>\n",
       "      <td>g</td>\n",
       "      <td>00043</td>\n",
       "      <td>560</td>\n",
       "      <td>+</td>\n",
       "    </tr>\n",
       "    <tr>\n",
       "      <th>2</th>\n",
       "      <td>a</td>\n",
       "      <td>24.50</td>\n",
       "      <td>0.500</td>\n",
       "      <td>u</td>\n",
       "      <td>g</td>\n",
       "      <td>q</td>\n",
       "      <td>h</td>\n",
       "      <td>1.50</td>\n",
       "      <td>t</td>\n",
       "      <td>f</td>\n",
       "      <td>0</td>\n",
       "      <td>f</td>\n",
       "      <td>g</td>\n",
       "      <td>00280</td>\n",
       "      <td>824</td>\n",
       "      <td>+</td>\n",
       "    </tr>\n",
       "    <tr>\n",
       "      <th>3</th>\n",
       "      <td>b</td>\n",
       "      <td>27.83</td>\n",
       "      <td>1.540</td>\n",
       "      <td>u</td>\n",
       "      <td>g</td>\n",
       "      <td>w</td>\n",
       "      <td>v</td>\n",
       "      <td>3.75</td>\n",
       "      <td>t</td>\n",
       "      <td>t</td>\n",
       "      <td>5</td>\n",
       "      <td>t</td>\n",
       "      <td>g</td>\n",
       "      <td>00100</td>\n",
       "      <td>3</td>\n",
       "      <td>+</td>\n",
       "    </tr>\n",
       "    <tr>\n",
       "      <th>4</th>\n",
       "      <td>b</td>\n",
       "      <td>20.17</td>\n",
       "      <td>5.625</td>\n",
       "      <td>u</td>\n",
       "      <td>g</td>\n",
       "      <td>w</td>\n",
       "      <td>v</td>\n",
       "      <td>1.71</td>\n",
       "      <td>t</td>\n",
       "      <td>f</td>\n",
       "      <td>0</td>\n",
       "      <td>f</td>\n",
       "      <td>s</td>\n",
       "      <td>00120</td>\n",
       "      <td>0</td>\n",
       "      <td>+</td>\n",
       "    </tr>\n",
       "  </tbody>\n",
       "</table>\n",
       "</div>"
      ],
      "text/plain": [
       "  Risk Level Annual Income  Balance Card type Gender Qualification  \\\n",
       "0          b         30.83    0.000         u      g             w   \n",
       "1          a         58.67    4.460         u      g             q   \n",
       "2          a         24.50    0.500         u      g             q   \n",
       "3          b         27.83    1.540         u      g             w   \n",
       "4          b         20.17    5.625         u      g             w   \n",
       "\n",
       "  Martial Status  Years of Employment Defaulted Credit Existing  Dependents  \\\n",
       "0              v                 1.25                t        t           1   \n",
       "1              h                 3.04                t        t           6   \n",
       "2              h                 1.50                t        f           0   \n",
       "3              v                 3.75                t        t           5   \n",
       "4              v                 1.71                t        f           0   \n",
       "\n",
       "  Installment plans Property Status Duration of credit  Limit Status  \n",
       "0                 f               g              00202      0      +  \n",
       "1                 f               g              00043    560      +  \n",
       "2                 f               g              00280    824      +  \n",
       "3                 t               g              00100      3      +  \n",
       "4                 f               s              00120      0      +  "
      ]
     },
     "execution_count": 75,
     "metadata": {},
     "output_type": "execute_result"
    }
   ],
   "source": [
    "# Inspect data\n",
    "data.head()"
   ]
  },
  {
   "cell_type": "code",
   "execution_count": 76,
   "id": "e7f7102e",
   "metadata": {},
   "outputs": [
    {
     "name": "stdout",
     "output_type": "stream",
     "text": [
      "<class 'pandas.core.frame.DataFrame'>\n",
      "RangeIndex: 690 entries, 0 to 689\n",
      "Data columns (total 16 columns):\n",
      " #   Column               Non-Null Count  Dtype  \n",
      "---  ------               --------------  -----  \n",
      " 0   Risk Level           690 non-null    object \n",
      " 1   Annual Income        690 non-null    object \n",
      " 2   Balance              690 non-null    float64\n",
      " 3   Card type            690 non-null    object \n",
      " 4   Gender               690 non-null    object \n",
      " 5   Qualification        690 non-null    object \n",
      " 6   Martial Status       690 non-null    object \n",
      " 7   Years of Employment  690 non-null    float64\n",
      " 8   Defaulted Credit     690 non-null    object \n",
      " 9   Existing             690 non-null    object \n",
      " 10  Dependents           690 non-null    int64  \n",
      " 11  Installment plans    690 non-null    object \n",
      " 12  Property Status      690 non-null    object \n",
      " 13  Duration of credit   690 non-null    object \n",
      " 14  Limit                690 non-null    int64  \n",
      " 15  Status               690 non-null    object \n",
      "dtypes: float64(2), int64(2), object(12)\n",
      "memory usage: 86.4+ KB\n"
     ]
    }
   ],
   "source": [
    "# dataframe information\n",
    "data.info()"
   ]
  },
  {
   "cell_type": "code",
   "execution_count": 78,
   "id": "4d578942",
   "metadata": {},
   "outputs": [
    {
     "data": {
      "text/html": [
       "<div>\n",
       "<style scoped>\n",
       "    .dataframe tbody tr th:only-of-type {\n",
       "        vertical-align: middle;\n",
       "    }\n",
       "\n",
       "    .dataframe tbody tr th {\n",
       "        vertical-align: top;\n",
       "    }\n",
       "\n",
       "    .dataframe thead th {\n",
       "        text-align: right;\n",
       "    }\n",
       "</style>\n",
       "<table border=\"1\" class=\"dataframe\">\n",
       "  <thead>\n",
       "    <tr style=\"text-align: right;\">\n",
       "      <th></th>\n",
       "      <th>Balance</th>\n",
       "      <th>Years of Employment</th>\n",
       "      <th>Dependents</th>\n",
       "      <th>Limit</th>\n",
       "    </tr>\n",
       "  </thead>\n",
       "  <tbody>\n",
       "    <tr>\n",
       "      <th>count</th>\n",
       "      <td>690.000000</td>\n",
       "      <td>690.000000</td>\n",
       "      <td>690.00000</td>\n",
       "      <td>690.000000</td>\n",
       "    </tr>\n",
       "    <tr>\n",
       "      <th>mean</th>\n",
       "      <td>4.758725</td>\n",
       "      <td>2.223406</td>\n",
       "      <td>2.40000</td>\n",
       "      <td>1017.385507</td>\n",
       "    </tr>\n",
       "    <tr>\n",
       "      <th>std</th>\n",
       "      <td>4.978163</td>\n",
       "      <td>3.346513</td>\n",
       "      <td>4.86294</td>\n",
       "      <td>5210.102598</td>\n",
       "    </tr>\n",
       "    <tr>\n",
       "      <th>min</th>\n",
       "      <td>0.000000</td>\n",
       "      <td>0.000000</td>\n",
       "      <td>0.00000</td>\n",
       "      <td>0.000000</td>\n",
       "    </tr>\n",
       "    <tr>\n",
       "      <th>25%</th>\n",
       "      <td>1.000000</td>\n",
       "      <td>0.165000</td>\n",
       "      <td>0.00000</td>\n",
       "      <td>0.000000</td>\n",
       "    </tr>\n",
       "    <tr>\n",
       "      <th>50%</th>\n",
       "      <td>2.750000</td>\n",
       "      <td>1.000000</td>\n",
       "      <td>0.00000</td>\n",
       "      <td>5.000000</td>\n",
       "    </tr>\n",
       "    <tr>\n",
       "      <th>75%</th>\n",
       "      <td>7.207500</td>\n",
       "      <td>2.625000</td>\n",
       "      <td>3.00000</td>\n",
       "      <td>395.500000</td>\n",
       "    </tr>\n",
       "    <tr>\n",
       "      <th>max</th>\n",
       "      <td>28.000000</td>\n",
       "      <td>28.500000</td>\n",
       "      <td>67.00000</td>\n",
       "      <td>100000.000000</td>\n",
       "    </tr>\n",
       "  </tbody>\n",
       "</table>\n",
       "</div>"
      ],
      "text/plain": [
       "          Balance  Years of Employment  Dependents          Limit\n",
       "count  690.000000           690.000000   690.00000     690.000000\n",
       "mean     4.758725             2.223406     2.40000    1017.385507\n",
       "std      4.978163             3.346513     4.86294    5210.102598\n",
       "min      0.000000             0.000000     0.00000       0.000000\n",
       "25%      1.000000             0.165000     0.00000       0.000000\n",
       "50%      2.750000             1.000000     0.00000       5.000000\n",
       "75%      7.207500             2.625000     3.00000     395.500000\n",
       "max     28.000000            28.500000    67.00000  100000.000000"
      ]
     },
     "execution_count": 78,
     "metadata": {},
     "output_type": "execute_result"
    }
   ],
   "source": [
    "# summary statistics\n",
    "data.describe()"
   ]
  },
  {
   "cell_type": "code",
   "execution_count": 79,
   "id": "7576db74",
   "metadata": {},
   "outputs": [
    {
     "name": "stdout",
     "output_type": "stream",
     "text": [
      "['b' 'a' '?']\n",
      "['30.83' '58.67' '24.50' '27.83' '20.17' '32.08' '33.17' '22.92' '54.42'\n",
      " '42.50' '22.08' '29.92' '38.25' '48.08' '45.83' '36.67' '28.25' '23.25'\n",
      " '21.83' '19.17' '25.00' '47.75' '27.42' '41.17' '15.83' '47.00' '56.58'\n",
      " '57.42' '42.08' '29.25' '42.00' '49.50' '36.75' '22.58' '27.25' '23.00'\n",
      " '27.75' '54.58' '34.17' '28.92' '29.67' '39.58' '56.42' '54.33' '41.00'\n",
      " '31.92' '41.50' '23.92' '25.75' '26.00' '37.42' '34.92' '34.25' '23.33'\n",
      " '23.17' '44.33' '35.17' '43.25' '56.75' '31.67' '23.42' '20.42' '26.67'\n",
      " '36.00' '25.50' '19.42' '32.33' '34.83' '38.58' '44.25' '44.83' '20.67'\n",
      " '34.08' '21.67' '21.50' '49.58' '27.67' '39.83' '?' '37.17' '25.67'\n",
      " '34.00' '49.00' '62.50' '31.42' '52.33' '28.75' '28.58' '22.50' '28.50'\n",
      " '37.50' '35.25' '18.67' '54.83' '40.92' '19.75' '29.17' '24.58' '33.75'\n",
      " '25.42' '37.75' '52.50' '57.83' '20.75' '39.92' '24.75' '44.17' '23.50'\n",
      " '47.67' '22.75' '34.42' '28.42' '67.75' '47.42' '36.25' '32.67' '48.58'\n",
      " '33.58' '18.83' '26.92' '31.25' '56.50' '43.00' '22.33' '32.83' '40.33'\n",
      " '30.50' '52.83' '46.67' '58.33' '37.33' '23.08' '32.75' '68.67' '28.00'\n",
      " '44.00' '25.08' '32.00' '60.58' '40.83' '19.33' '41.33' '56.00' '49.83'\n",
      " '22.67' '27.00' '26.08' '18.42' '21.25' '57.08' '22.42' '48.75' '40.00'\n",
      " '40.58' '28.67' '33.08' '21.33' '41.75' '34.50' '48.17' '27.58' '24.08'\n",
      " '24.83' '36.33' '35.42' '71.58' '39.50' '39.33' '24.33' '60.08' '55.92'\n",
      " '53.92' '18.92' '50.08' '65.42' '17.58' '18.08' '19.67' '25.17' '33.50'\n",
      " '58.42' '26.17' '42.83' '38.17' '20.50' '48.25' '28.33' '18.75' '18.50'\n",
      " '45.00' '40.25' '41.42' '17.83' '18.17' '20.00' '52.17' '50.75' '17.08'\n",
      " '18.33' '59.67' '18.00' '37.58' '30.67' '18.58' '16.25' '21.17' '17.67'\n",
      " '16.50' '29.50' '21.75' '18.25' '35.75' '16.08' '69.17' '32.92' '16.33'\n",
      " '22.17' '57.58' '15.92' '31.75' '19.00' '17.50' '33.67' '30.17' '33.25'\n",
      " '25.25' '34.75' '47.33' '39.08' '42.75' '38.92' '62.75' '32.25' '26.75'\n",
      " '63.33' '30.75' '16.00' '19.50' '32.42' '30.25' '26.83' '16.92' '24.42'\n",
      " '39.42' '23.58' '21.42' '33.00' '26.33' '26.25' '28.17' '20.83' '43.17'\n",
      " '56.83' '15.17' '29.83' '31.00' '51.92' '69.50' '19.58' '22.25' '38.42'\n",
      " '26.58' '35.00' '29.42' '49.17' '51.83' '58.58' '53.33' '27.17' '25.92'\n",
      " '30.58' '17.25' '27.33' '36.50' '29.75' '52.42' '36.17' '34.58' '21.92'\n",
      " '36.58' '31.08' '30.42' '21.08' '17.42' '39.17' '26.50' '17.33' '23.75'\n",
      " '34.67' '74.83' '45.33' '47.25' '24.17' '39.25' '39.00' '64.08' '31.33'\n",
      " '21.00' '13.75' '46.00' '20.25' '60.92' '30.00' '22.83' '45.17' '41.58'\n",
      " '55.75' '25.33' '31.83' '33.92' '24.92' '80.25' '30.08' '48.33' '76.75'\n",
      " '51.33' '41.92' '29.58' '32.17' '51.42' '42.17' '43.08' '59.50' '65.17'\n",
      " '20.33' '48.50' '28.08' '73.42' '51.58' '38.67' '46.08' '20.08' '42.25'\n",
      " '16.17' '47.83' '22.00' '38.33' '25.58' '21.58' '36.08' '38.75' '35.58'\n",
      " '31.58' '15.75' '17.92' '30.33' '47.17' '25.83' '50.25' '36.42']\n",
      "['u' 'y' '?' 'l']\n",
      "['g' 'p' '?' 'gg']\n",
      "['w' 'q' 'm' 'r' 'cc' 'k' 'c' 'd' 'x' 'i' 'e' 'aa' 'ff' 'j' '?']\n",
      "['v' 'h' 'bb' 'ff' 'j' 'z' '?' 'o' 'dd' 'n']\n",
      "['t' 'f']\n",
      "['t' 'f']\n",
      "['f' 't']\n",
      "['g' 's' 'p']\n",
      "['00202' '00043' '00280' '00100' '00120' '00360' '00164' '00080' '00180'\n",
      " '00052' '00128' '00260' '00000' '00320' '00396' '00096' '00200' '00300'\n",
      " '00145' '00500' '00168' '00434' '00583' '00030' '00240' '00070' '00455'\n",
      " '00311' '00216' '00491' '00400' '00239' '00160' '00711' '00250' '00520'\n",
      " '00515' '00420' '?' '00980' '00443' '00140' '00094' '00368' '00288'\n",
      " '00928' '00188' '00112' '00171' '00268' '00167' '00075' '00152' '00176'\n",
      " '00329' '00212' '00410' '00274' '00375' '00408' '00350' '00204' '00040'\n",
      " '00181' '00399' '00440' '00093' '00060' '00395' '00393' '00021' '00029'\n",
      " '00102' '00431' '00370' '00024' '00020' '00129' '00510' '00195' '00144'\n",
      " '00380' '00049' '00050' '00381' '00150' '00117' '00056' '00211' '00230'\n",
      " '00156' '00022' '00228' '00519' '00253' '00487' '00220' '00088' '00073'\n",
      " '00121' '00470' '00136' '00132' '00292' '00154' '00272' '00340' '00108'\n",
      " '00720' '00450' '00232' '00170' '01160' '00411' '00460' '00348' '00480'\n",
      " '00640' '00372' '00276' '00221' '00352' '00141' '00178' '00600' '00550'\n",
      " '02000' '00225' '00210' '00110' '00356' '00045' '00062' '00092' '00174'\n",
      " '00017' '00086' '00454' '00254' '00028' '00263' '00333' '00312' '00290'\n",
      " '00371' '00099' '00252' '00760' '00560' '00130' '00523' '00680' '00163'\n",
      " '00208' '00383' '00330' '00422' '00840' '00432' '00032' '00186' '00303'\n",
      " '00349' '00224' '00369' '00076' '00231' '00309' '00416' '00465' '00256']\n",
      "['+' '-']\n"
     ]
    }
   ],
   "source": [
    "# for each of the categorical columns, lets see the unique values\n",
    "for i in data.columns:\n",
    "    #print(i)\n",
    "    if data[i].dtype==object:\n",
    "        print(data[i].unique())"
   ]
  },
  {
   "cell_type": "code",
   "execution_count": 80,
   "id": "7ac58d53",
   "metadata": {},
   "outputs": [],
   "source": [
    "# To be consistent across the dataset we replace all these missing values denoted by ? with NaN\n",
    "data = data.replace('?',np.nan)"
   ]
  },
  {
   "cell_type": "code",
   "execution_count": 81,
   "id": "f42bb617",
   "metadata": {},
   "outputs": [],
   "source": [
    "def fix_missing_mean(df,col):\n",
    "    ''' This function takes a data frame as input \n",
    "    replaces the missing values of a particular column with it's mean value\n",
    "    '''\n",
    "    #replace missing values with mean \n",
    "    data[col] = pd.to_numeric(data[col], errors = 'coerce')\n",
    "    data[col].fillna(data[col].mean(), inplace = True)    \n",
    "\n",
    "def fix_missing_ffill(df, col):\n",
    "    ''' This function takes a data frame as input \n",
    "    replaces the missing values of a particular column with the value from the previous row\n",
    "    '''\n",
    "    data[col] = data[col].fillna(method='ffill')"
   ]
  },
  {
   "cell_type": "code",
   "execution_count": 82,
   "id": "fbc07436",
   "metadata": {},
   "outputs": [],
   "source": [
    "fix_missing_ffill(data,'Risk Level')\n",
    "fix_missing_ffill(data,'Annual Income')\n",
    "fix_missing_ffill(data,'Card type')\n",
    "fix_missing_ffill(data,'Gender')\n",
    "fix_missing_ffill(data,'Qualification')\n",
    "fix_missing_ffill(data,'Martial Status')\n",
    "fix_missing_mean(data,'Duration of credit')"
   ]
  },
  {
   "cell_type": "code",
   "execution_count": 83,
   "id": "084450a9",
   "metadata": {},
   "outputs": [
    {
     "data": {
      "text/plain": [
       "Risk Level             0\n",
       "Annual Income          0\n",
       "Balance                0\n",
       "Card type              0\n",
       "Gender                 0\n",
       "Qualification          0\n",
       "Martial Status         0\n",
       "Years of Employment    0\n",
       "Defaulted Credit       0\n",
       "Existing               0\n",
       "Dependents             0\n",
       "Installment plans      0\n",
       "Property Status        0\n",
       "Duration of credit     0\n",
       "Limit                  0\n",
       "Status                 0\n",
       "dtype: int64"
      ]
     },
     "execution_count": 83,
     "metadata": {},
     "output_type": "execute_result"
    }
   ],
   "source": [
    "#Checking whether there are any null values \n",
    "data.isnull().sum()"
   ]
  },
  {
   "cell_type": "code",
   "execution_count": 84,
   "id": "0ed94ce0",
   "metadata": {},
   "outputs": [
    {
     "data": {
      "text/html": [
       "<div>\n",
       "<style scoped>\n",
       "    .dataframe tbody tr th:only-of-type {\n",
       "        vertical-align: middle;\n",
       "    }\n",
       "\n",
       "    .dataframe tbody tr th {\n",
       "        vertical-align: top;\n",
       "    }\n",
       "\n",
       "    .dataframe thead th {\n",
       "        text-align: right;\n",
       "    }\n",
       "</style>\n",
       "<table border=\"1\" class=\"dataframe\">\n",
       "  <thead>\n",
       "    <tr style=\"text-align: right;\">\n",
       "      <th></th>\n",
       "      <th>Risk Level</th>\n",
       "      <th>Annual Income</th>\n",
       "      <th>Balance</th>\n",
       "      <th>Card type</th>\n",
       "      <th>Gender</th>\n",
       "      <th>Qualification</th>\n",
       "      <th>Martial Status</th>\n",
       "      <th>Years of Employment</th>\n",
       "      <th>Defaulted Credit</th>\n",
       "      <th>Existing</th>\n",
       "      <th>Dependents</th>\n",
       "      <th>Installment plans</th>\n",
       "      <th>Property Status</th>\n",
       "      <th>Duration of credit</th>\n",
       "      <th>Limit</th>\n",
       "    </tr>\n",
       "  </thead>\n",
       "  <tbody>\n",
       "    <tr>\n",
       "      <th>0</th>\n",
       "      <td>b</td>\n",
       "      <td>30.83</td>\n",
       "      <td>0.000</td>\n",
       "      <td>u</td>\n",
       "      <td>g</td>\n",
       "      <td>w</td>\n",
       "      <td>v</td>\n",
       "      <td>1.25</td>\n",
       "      <td>t</td>\n",
       "      <td>t</td>\n",
       "      <td>1</td>\n",
       "      <td>f</td>\n",
       "      <td>g</td>\n",
       "      <td>202.0</td>\n",
       "      <td>0</td>\n",
       "    </tr>\n",
       "    <tr>\n",
       "      <th>1</th>\n",
       "      <td>a</td>\n",
       "      <td>58.67</td>\n",
       "      <td>4.460</td>\n",
       "      <td>u</td>\n",
       "      <td>g</td>\n",
       "      <td>q</td>\n",
       "      <td>h</td>\n",
       "      <td>3.04</td>\n",
       "      <td>t</td>\n",
       "      <td>t</td>\n",
       "      <td>6</td>\n",
       "      <td>f</td>\n",
       "      <td>g</td>\n",
       "      <td>43.0</td>\n",
       "      <td>560</td>\n",
       "    </tr>\n",
       "    <tr>\n",
       "      <th>2</th>\n",
       "      <td>a</td>\n",
       "      <td>24.50</td>\n",
       "      <td>0.500</td>\n",
       "      <td>u</td>\n",
       "      <td>g</td>\n",
       "      <td>q</td>\n",
       "      <td>h</td>\n",
       "      <td>1.50</td>\n",
       "      <td>t</td>\n",
       "      <td>f</td>\n",
       "      <td>0</td>\n",
       "      <td>f</td>\n",
       "      <td>g</td>\n",
       "      <td>280.0</td>\n",
       "      <td>824</td>\n",
       "    </tr>\n",
       "    <tr>\n",
       "      <th>3</th>\n",
       "      <td>b</td>\n",
       "      <td>27.83</td>\n",
       "      <td>1.540</td>\n",
       "      <td>u</td>\n",
       "      <td>g</td>\n",
       "      <td>w</td>\n",
       "      <td>v</td>\n",
       "      <td>3.75</td>\n",
       "      <td>t</td>\n",
       "      <td>t</td>\n",
       "      <td>5</td>\n",
       "      <td>t</td>\n",
       "      <td>g</td>\n",
       "      <td>100.0</td>\n",
       "      <td>3</td>\n",
       "    </tr>\n",
       "    <tr>\n",
       "      <th>4</th>\n",
       "      <td>b</td>\n",
       "      <td>20.17</td>\n",
       "      <td>5.625</td>\n",
       "      <td>u</td>\n",
       "      <td>g</td>\n",
       "      <td>w</td>\n",
       "      <td>v</td>\n",
       "      <td>1.71</td>\n",
       "      <td>t</td>\n",
       "      <td>f</td>\n",
       "      <td>0</td>\n",
       "      <td>f</td>\n",
       "      <td>s</td>\n",
       "      <td>120.0</td>\n",
       "      <td>0</td>\n",
       "    </tr>\n",
       "  </tbody>\n",
       "</table>\n",
       "</div>"
      ],
      "text/plain": [
       "  Risk Level Annual Income  Balance Card type Gender Qualification  \\\n",
       "0          b         30.83    0.000         u      g             w   \n",
       "1          a         58.67    4.460         u      g             q   \n",
       "2          a         24.50    0.500         u      g             q   \n",
       "3          b         27.83    1.540         u      g             w   \n",
       "4          b         20.17    5.625         u      g             w   \n",
       "\n",
       "  Martial Status  Years of Employment Defaulted Credit Existing  Dependents  \\\n",
       "0              v                 1.25                t        t           1   \n",
       "1              h                 3.04                t        t           6   \n",
       "2              h                 1.50                t        f           0   \n",
       "3              v                 3.75                t        t           5   \n",
       "4              v                 1.71                t        f           0   \n",
       "\n",
       "  Installment plans Property Status  Duration of credit  Limit  \n",
       "0                 f               g               202.0      0  \n",
       "1                 f               g                43.0    560  \n",
       "2                 f               g               280.0    824  \n",
       "3                 t               g               100.0      3  \n",
       "4                 f               s               120.0      0  "
      ]
     },
     "execution_count": 84,
     "metadata": {},
     "output_type": "execute_result"
    }
   ],
   "source": [
    "# Separate data with two variables\n",
    "y = data['Status']\n",
    "x = data.drop(['Status'], axis=1)\n",
    "# Preview x\n",
    "x.head()"
   ]
  },
  {
   "cell_type": "code",
   "execution_count": 85,
   "id": "0df1043c",
   "metadata": {},
   "outputs": [
    {
     "data": {
      "text/html": [
       "<div>\n",
       "<style scoped>\n",
       "    .dataframe tbody tr th:only-of-type {\n",
       "        vertical-align: middle;\n",
       "    }\n",
       "\n",
       "    .dataframe tbody tr th {\n",
       "        vertical-align: top;\n",
       "    }\n",
       "\n",
       "    .dataframe thead th {\n",
       "        text-align: right;\n",
       "    }\n",
       "</style>\n",
       "<table border=\"1\" class=\"dataframe\">\n",
       "  <thead>\n",
       "    <tr style=\"text-align: right;\">\n",
       "      <th></th>\n",
       "      <th>Risk Level</th>\n",
       "      <th>Annual Income</th>\n",
       "      <th>Balance</th>\n",
       "      <th>Card type</th>\n",
       "      <th>Gender</th>\n",
       "      <th>Qualification</th>\n",
       "      <th>Martial Status</th>\n",
       "      <th>Years of Employment</th>\n",
       "      <th>Defaulted Credit</th>\n",
       "      <th>Existing</th>\n",
       "      <th>Dependents</th>\n",
       "      <th>Installment plans</th>\n",
       "      <th>Property Status</th>\n",
       "      <th>Duration of credit</th>\n",
       "      <th>Limit</th>\n",
       "    </tr>\n",
       "  </thead>\n",
       "  <tbody>\n",
       "    <tr>\n",
       "      <th>0</th>\n",
       "      <td>1.0</td>\n",
       "      <td>156.0</td>\n",
       "      <td>0.0</td>\n",
       "      <td>1.0</td>\n",
       "      <td>0.0</td>\n",
       "      <td>12.0</td>\n",
       "      <td>7.0</td>\n",
       "      <td>30.0</td>\n",
       "      <td>1.0</td>\n",
       "      <td>1.0</td>\n",
       "      <td>1.0</td>\n",
       "      <td>0.0</td>\n",
       "      <td>0.0</td>\n",
       "      <td>69.0</td>\n",
       "      <td>0</td>\n",
       "    </tr>\n",
       "    <tr>\n",
       "      <th>1</th>\n",
       "      <td>0.0</td>\n",
       "      <td>328.0</td>\n",
       "      <td>93.0</td>\n",
       "      <td>1.0</td>\n",
       "      <td>0.0</td>\n",
       "      <td>10.0</td>\n",
       "      <td>3.0</td>\n",
       "      <td>65.0</td>\n",
       "      <td>1.0</td>\n",
       "      <td>1.0</td>\n",
       "      <td>6.0</td>\n",
       "      <td>0.0</td>\n",
       "      <td>0.0</td>\n",
       "      <td>11.0</td>\n",
       "      <td>560</td>\n",
       "    </tr>\n",
       "    <tr>\n",
       "      <th>2</th>\n",
       "      <td>0.0</td>\n",
       "      <td>89.0</td>\n",
       "      <td>16.0</td>\n",
       "      <td>1.0</td>\n",
       "      <td>0.0</td>\n",
       "      <td>10.0</td>\n",
       "      <td>3.0</td>\n",
       "      <td>36.0</td>\n",
       "      <td>1.0</td>\n",
       "      <td>0.0</td>\n",
       "      <td>0.0</td>\n",
       "      <td>0.0</td>\n",
       "      <td>0.0</td>\n",
       "      <td>97.0</td>\n",
       "      <td>824</td>\n",
       "    </tr>\n",
       "    <tr>\n",
       "      <th>3</th>\n",
       "      <td>1.0</td>\n",
       "      <td>125.0</td>\n",
       "      <td>46.0</td>\n",
       "      <td>1.0</td>\n",
       "      <td>0.0</td>\n",
       "      <td>12.0</td>\n",
       "      <td>7.0</td>\n",
       "      <td>73.0</td>\n",
       "      <td>1.0</td>\n",
       "      <td>1.0</td>\n",
       "      <td>5.0</td>\n",
       "      <td>1.0</td>\n",
       "      <td>0.0</td>\n",
       "      <td>31.0</td>\n",
       "      <td>3</td>\n",
       "    </tr>\n",
       "    <tr>\n",
       "      <th>4</th>\n",
       "      <td>1.0</td>\n",
       "      <td>43.0</td>\n",
       "      <td>109.0</td>\n",
       "      <td>1.0</td>\n",
       "      <td>0.0</td>\n",
       "      <td>12.0</td>\n",
       "      <td>7.0</td>\n",
       "      <td>41.0</td>\n",
       "      <td>1.0</td>\n",
       "      <td>0.0</td>\n",
       "      <td>0.0</td>\n",
       "      <td>0.0</td>\n",
       "      <td>2.0</td>\n",
       "      <td>37.0</td>\n",
       "      <td>0</td>\n",
       "    </tr>\n",
       "  </tbody>\n",
       "</table>\n",
       "</div>"
      ],
      "text/plain": [
       "   Risk Level  Annual Income  Balance  Card type  Gender  Qualification  \\\n",
       "0         1.0          156.0      0.0        1.0     0.0           12.0   \n",
       "1         0.0          328.0     93.0        1.0     0.0           10.0   \n",
       "2         0.0           89.0     16.0        1.0     0.0           10.0   \n",
       "3         1.0          125.0     46.0        1.0     0.0           12.0   \n",
       "4         1.0           43.0    109.0        1.0     0.0           12.0   \n",
       "\n",
       "   Martial Status  Years of Employment  Defaulted Credit  Existing  \\\n",
       "0             7.0                 30.0               1.0       1.0   \n",
       "1             3.0                 65.0               1.0       1.0   \n",
       "2             3.0                 36.0               1.0       0.0   \n",
       "3             7.0                 73.0               1.0       1.0   \n",
       "4             7.0                 41.0               1.0       0.0   \n",
       "\n",
       "   Dependents  Installment plans  Property Status  Duration of credit  Limit  \n",
       "0         1.0                0.0              0.0                69.0      0  \n",
       "1         6.0                0.0              0.0                11.0    560  \n",
       "2         0.0                0.0              0.0                97.0    824  \n",
       "3         5.0                1.0              0.0                31.0      3  \n",
       "4         0.0                0.0              2.0                37.0      0  "
      ]
     },
     "execution_count": 85,
     "metadata": {},
     "output_type": "execute_result"
    }
   ],
   "source": [
    "# List of categorical columns\n",
    "object_cols = ['Risk Level','Annual Income','Balance','Card type','Gender','Qualification','Martial Status','Years of Employment','Defaulted Credit','Existing','Dependents','Installment plans','Property Status','Duration of credit']\n",
    "\n",
    "# ordinal-encode categorical columns\n",
    "X = x.copy()\n",
    "ordinal_encoder = OrdinalEncoder()\n",
    "X[object_cols] = ordinal_encoder.fit_transform(x[object_cols])\n",
    "\n",
    "# Preview the ordinal-encoded features\n",
    "X.head()"
   ]
  },
  {
   "cell_type": "code",
   "execution_count": 113,
   "id": "60a5e64d",
   "metadata": {},
   "outputs": [
    {
     "data": {
      "image/png": "[encoded data removed]",
      "text/plain": [
       "<Figure size 700x500 with 1 Axes>"
      ]
     },
     "metadata": {},
     "output_type": "display_data"
    }
   ],
   "source": [
    "#Let’s visualize the target variable and have a look at how many approved \n",
    "# and declined applications are there in our dataset.\n",
    "\n",
    "fig, ax = plt.subplots(1, 1, figsize=(7,5), sharex=True)\n",
    "sns.countplot(data=data, x='Status',order=data[\"Status\"].value_counts().index)\n",
    "total = data['Status'].value_counts().sum()\n",
    "plt.xticks(fontsize=14)\n",
    "plt.yticks(fontsize=14)\n",
    "plt.xlabel('Status', fontsize=16)\n",
    "plt.ylabel('count', fontsize=16)\n",
    "\n",
    "plt.show()"
   ]
  },
  {
   "cell_type": "code",
   "execution_count": 87,
   "id": "0853a213",
   "metadata": {},
   "outputs": [],
   "source": [
    "# Using train_test_split, we split X and y dataframes into a training set and testing set \n",
    "x_train, x_test, y_train, y_test = train_test_split(X, y,\n",
    "                                               test_size=0.30,\n",
    "                                               random_state=20)"
   ]
  },
  {
   "cell_type": "markdown",
   "id": "3424d149",
   "metadata": {},
   "source": [
    "# Machine Learning Classifiers"
   ]
  },
  {
   "cell_type": "code",
   "execution_count": 88,
   "id": "53122f32",
   "metadata": {},
   "outputs": [],
   "source": [
    "#Decision Tree\n",
    "#We have used sklearn’s DecisionTreeClassifier algorithm to build the model. \n",
    "#We find the optimized value of hyperparameter max_depth by varying it between 1 and 10 in steps of 1. "
   ]
  },
  {
   "cell_type": "code",
   "execution_count": 89,
   "id": "6fe04fd2",
   "metadata": {},
   "outputs": [
    {
     "name": "stdout",
     "output_type": "stream",
     "text": [
      "1 Train score: 0.8612836438923396 Test score: 0.8405797101449275\n",
      "2 Train score: 0.8612836438923396 Test score: 0.8405797101449275\n",
      "3 Train score: 0.8861283643892339 Test score: 0.8115942028985508\n",
      "4 Train score: 0.9089026915113871 Test score: 0.8454106280193237\n",
      "5 Train score: 0.9296066252587992 Test score: 0.8260869565217391\n",
      "6 Train score: 0.9461697722567288 Test score: 0.821256038647343\n",
      "7 Train score: 0.9606625258799172 Test score: 0.7922705314009661\n",
      "8 Train score: 0.979296066252588 Test score: 0.8067632850241546\n",
      "9 Train score: 0.9937888198757764 Test score: 0.8067632850241546\n"
     ]
    },
    {
     "data": {
      "text/plain": [
       "<matplotlib.legend.Legend at 0x17aaf17d0>"
      ]
     },
     "execution_count": 89,
     "metadata": {},
     "output_type": "execute_result"
    },
    {
     "data": {
      "image/png": "[encoded data removed]",
      "text/plain": [
       "<Figure size 640x480 with 1 Axes>"
      ]
     },
     "metadata": {},
     "output_type": "display_data"
    }
   ],
   "source": [
    "train_acc=[]\n",
    "test_acc=[]\n",
    "list_score=[]\n",
    "\n",
    "for i in range(1, 10):\n",
    "    \n",
    "    dtc = DecisionTreeClassifier(max_depth = i ,random_state = 0)\n",
    "    dtc.fit(x_train, y_train)\n",
    "\n",
    "    train_pred = dtc.predict(x_train)\n",
    "\n",
    "    \n",
    "    test_pred = dtc.predict(x_test)\n",
    "   \n",
    "    test_acc = accuracy_score(y_test, test_pred)\n",
    "    train_acc = accuracy_score(y_train, train_pred)\n",
    "    print(i,'Train score:',train_acc,'Test score:',test_acc)\n",
    "\n",
    "    list_score.append([i,accuracy_score(train_pred, y_train),accuracy_score(test_pred, y_test)]) \n",
    "    \n",
    "    \n",
    "df2 = DataFrame (list_score,columns=['Depth','Train Accuracy','Test Accuracy'])\n",
    "plt.plot(df2['Depth'],df2['Test Accuracy'],label='Test Accuracy')\n",
    "plt.plot(df2['Depth'],df2['Train Accuracy'],label='Train Accuracy')\n",
    "plt.xlabel('Depth')\n",
    "plt.ylabel('Accuracy')\n",
    "plt.legend() "
   ]
  },
  {
   "cell_type": "code",
   "execution_count": 90,
   "id": "1e3602e2",
   "metadata": {},
   "outputs": [
    {
     "data": {
      "text/plain": [
       "0.9937888198757764"
      ]
     },
     "execution_count": 90,
     "metadata": {},
     "output_type": "execute_result"
    }
   ],
   "source": [
    "train_acc"
   ]
  },
  {
   "cell_type": "code",
   "execution_count": 91,
   "id": "0d7a8baf",
   "metadata": {},
   "outputs": [
    {
     "data": {
      "text/plain": [
       "0.8067632850241546"
      ]
     },
     "execution_count": 91,
     "metadata": {},
     "output_type": "execute_result"
    }
   ],
   "source": [
    "test_acc"
   ]
  },
  {
   "cell_type": "code",
   "execution_count": 92,
   "id": "ecf752cf",
   "metadata": {},
   "outputs": [
    {
     "data": {
      "text/plain": [
       "[[1, 0.8612836438923396, 0.8405797101449275],\n",
       " [2, 0.8612836438923396, 0.8405797101449275],\n",
       " [3, 0.8861283643892339, 0.8115942028985508],\n",
       " [4, 0.9089026915113871, 0.8454106280193237],\n",
       " [5, 0.9296066252587992, 0.8260869565217391],\n",
       " [6, 0.9461697722567288, 0.821256038647343],\n",
       " [7, 0.9606625258799172, 0.7922705314009661],\n",
       " [8, 0.979296066252588, 0.8067632850241546],\n",
       " [9, 0.9937888198757764, 0.8067632850241546]]"
      ]
     },
     "execution_count": 92,
     "metadata": {},
     "output_type": "execute_result"
    }
   ],
   "source": [
    "list_score"
   ]
  },
  {
   "cell_type": "code",
   "execution_count": 105,
   "id": "6250d099",
   "metadata": {},
   "outputs": [
    {
     "data": {
      "text/html": [
       "<style>#sk-container-id-8 {color: black;}#sk-container-id-8 pre{padding: 0;}#sk-container-id-8 div.sk-toggleable {background-color: white;}#sk-container-id-8 label.sk-toggleable__label {cursor: pointer;display: block;width: 100%;margin-bottom: 0;padding: 0.3em;box-sizing: border-box;text-align: center;}#sk-container-id-8 label.sk-toggleable__label-arrow:before {content: \"▸\";float: left;margin-right: 0.25em;color: #696969;}#sk-container-id-8 label.sk-toggleable__label-arrow:hover:before {color: black;}#sk-container-id-8 div.sk-estimator:hover label.sk-toggleable__label-arrow:before {color: black;}#sk-container-id-8 div.sk-toggleable__content {max-height: 0;max-width: 0;overflow: hidden;text-align: left;background-color: #f0f8ff;}#sk-container-id-8 div.sk-toggleable__content pre {margin: 0.2em;color: black;border-radius: 0.25em;background-color: #f0f8ff;}#sk-container-id-8 input.sk-toggleable__control:checked~div.sk-toggleable__content {max-height: 200px;max-width: 100%;overflow: auto;}#sk-container-id-8 input.sk-toggleable__control:checked~label.sk-toggleable__label-arrow:before {content: \"▾\";}#sk-container-id-8 div.sk-estimator input.sk-toggleable__control:checked~label.sk-toggleable__label {background-color: #d4ebff;}#sk-container-id-8 div.sk-label input.sk-toggleable__control:checked~label.sk-toggleable__label {background-color: #d4ebff;}#sk-container-id-8 input.sk-hidden--visually {border: 0;clip: rect(1px 1px 1px 1px);clip: rect(1px, 1px, 1px, 1px);height: 1px;margin: -1px;overflow: hidden;padding: 0;position: absolute;width: 1px;}#sk-container-id-8 div.sk-estimator {font-family: monospace;background-color: #f0f8ff;border: 1px dotted black;border-radius: 0.25em;box-sizing: border-box;margin-bottom: 0.5em;}#sk-container-id-8 div.sk-estimator:hover {background-color: #d4ebff;}#sk-container-id-8 div.sk-parallel-item::after {content: \"\";width: 100%;border-bottom: 1px solid gray;flex-grow: 1;}#sk-container-id-8 div.sk-label:hover label.sk-toggleable__label {background-color: #d4ebff;}#sk-container-id-8 div.sk-serial::before {content: \"\";position: absolute;border-left: 1px solid gray;box-sizing: border-box;top: 0;bottom: 0;left: 50%;z-index: 0;}#sk-container-id-8 div.sk-serial {display: flex;flex-direction: column;align-items: center;background-color: white;padding-right: 0.2em;padding-left: 0.2em;position: relative;}#sk-container-id-8 div.sk-item {position: relative;z-index: 1;}#sk-container-id-8 div.sk-parallel {display: flex;align-items: stretch;justify-content: center;background-color: white;position: relative;}#sk-container-id-8 div.sk-item::before, #sk-container-id-8 div.sk-parallel-item::before {content: \"\";position: absolute;border-left: 1px solid gray;box-sizing: border-box;top: 0;bottom: 0;left: 50%;z-index: -1;}#sk-container-id-8 div.sk-parallel-item {display: flex;flex-direction: column;z-index: 1;position: relative;background-color: white;}#sk-container-id-8 div.sk-parallel-item:first-child::after {align-self: flex-end;width: 50%;}#sk-container-id-8 div.sk-parallel-item:last-child::after {align-self: flex-start;width: 50%;}#sk-container-id-8 div.sk-parallel-item:only-child::after {width: 0;}#sk-container-id-8 div.sk-dashed-wrapped {border: 1px dashed gray;margin: 0 0.4em 0.5em 0.4em;box-sizing: border-box;padding-bottom: 0.4em;background-color: white;}#sk-container-id-8 div.sk-label label {font-family: monospace;font-weight: bold;display: inline-block;line-height: 1.2em;}#sk-container-id-8 div.sk-label-container {text-align: center;}#sk-container-id-8 div.sk-container {/* jupyter's `normalize.less` sets `[hidden] { display: none; }` but bootstrap.min.css set `[hidden] { display: none !important; }` so we also need the `!important` here to be able to override the default hidden behavior on the sphinx rendered scikit-learn.org. See: https://github.com/scikit-learn/scikit-learn/issues/21755 */display: inline-block !important;position: relative;}#sk-container-id-8 div.sk-text-repr-fallback {display: none;}</style><div id=\"sk-container-id-8\" class=\"sk-top-container\"><div class=\"sk-text-repr-fallback\"><pre>DecisionTreeClassifier(criterion=&#x27;entropy&#x27;, max_depth=3, min_samples_leaf=5,\n",
       "                       min_samples_split=7, random_state=2)</pre><b>In a Jupyter environment, please rerun this cell to show the HTML representation or trust the notebook. <br />On GitHub, the HTML representation is unable to render, please try loading this page with nbviewer.org.</b></div><div class=\"sk-container\" hidden><div class=\"sk-item\"><div class=\"sk-estimator sk-toggleable\"><input class=\"sk-toggleable__control sk-hidden--visually\" id=\"sk-estimator-id-8\" type=\"checkbox\" checked><label for=\"sk-estimator-id-8\" class=\"sk-toggleable__label sk-toggleable__label-arrow\">DecisionTreeClassifier</label><div class=\"sk-toggleable__content\"><pre>DecisionTreeClassifier(criterion=&#x27;entropy&#x27;, max_depth=3, min_samples_leaf=5,\n",
       "                       min_samples_split=7, random_state=2)</pre></div></div></div></div></div>"
      ],
      "text/plain": [
       "DecisionTreeClassifier(criterion='entropy', max_depth=3, min_samples_leaf=5,\n",
       "                       min_samples_split=7, random_state=2)"
      ]
     },
     "execution_count": 105,
     "metadata": {},
     "output_type": "execute_result"
    }
   ],
   "source": [
    "DC=DecisionTreeClassifier(criterion='entropy',max_depth=3,min_samples_leaf=5,min_samples_split=7,random_state=2)\n",
    "DC.fit(x_train,y_train)"
   ]
  },
  {
   "cell_type": "code",
   "execution_count": 106,
   "id": "cb8cfd15",
   "metadata": {},
   "outputs": [
    {
     "data": {
      "text/plain": [
       "[Text(0.5, 0.875, 'x[8] <= 0.5\\nentropy = 0.991\\nsamples = 483\\nvalue = [215, 268]'),\n",
       " Text(0.25, 0.625, 'x[2] <= 2.0\\nentropy = 0.3\\nsamples = 225\\nvalue = [12, 213]'),\n",
       " Text(0.125, 0.375, 'x[13] <= 55.0\\nentropy = 0.961\\nsamples = 13\\nvalue = [5, 8]'),\n",
       " Text(0.0625, 0.125, 'entropy = 0.65\\nsamples = 6\\nvalue = [1, 5]'),\n",
       " Text(0.1875, 0.125, 'entropy = 0.985\\nsamples = 7\\nvalue = [4, 3]'),\n",
       " Text(0.375, 0.375, 'x[13] <= 53.0\\nentropy = 0.209\\nsamples = 212\\nvalue = [7, 205]'),\n",
       " Text(0.3125, 0.125, 'entropy = 0.0\\nsamples = 107\\nvalue = [0, 107]'),\n",
       " Text(0.4375, 0.125, 'entropy = 0.353\\nsamples = 105\\nvalue = [7, 98]'),\n",
       " Text(0.75, 0.625, 'x[14] <= 148.5\\nentropy = 0.748\\nsamples = 258\\nvalue = [203, 55]'),\n",
       " Text(0.625, 0.375, 'x[13] <= 39.5\\nentropy = 0.943\\nsamples = 136\\nvalue = [87, 49]'),\n",
       " Text(0.5625, 0.125, 'entropy = 0.598\\nsamples = 62\\nvalue = [53, 9]'),\n",
       " Text(0.6875, 0.125, 'entropy = 0.995\\nsamples = 74\\nvalue = [34, 40]'),\n",
       " Text(0.875, 0.375, 'x[7] <= 42.5\\nentropy = 0.283\\nsamples = 122\\nvalue = [116, 6]'),\n",
       " Text(0.8125, 0.125, 'entropy = 0.523\\nsamples = 51\\nvalue = [45, 6]'),\n",
       " Text(0.9375, 0.125, 'entropy = 0.0\\nsamples = 71\\nvalue = [71, 0]')]"
      ]
     },
     "execution_count": 106,
     "metadata": {},
     "output_type": "execute_result"
    },
    {
     "data": {
      "image/png": "[encoded data removed]",
      "text/plain": [
       "<Figure size 1200x1000 with 1 Axes>"
      ]
     },
     "metadata": {},
     "output_type": "display_data"
    }
   ],
   "source": [
    "from sklearn import tree\n",
    "plt.figure(figsize=(12,10))\n",
    "tree.plot_tree(DC.fit(x_train,y_train))"
   ]
  },
  {
   "cell_type": "markdown",
   "id": "46fbe8ad",
   "metadata": {},
   "source": [
    "# KNN"
   ]
  },
  {
   "cell_type": "code",
   "execution_count": 95,
   "id": "2842aff6",
   "metadata": {},
   "outputs": [
    {
     "name": "stdout",
     "output_type": "stream",
     "text": [
      "Train score: 0.8426501035196687 Test score: 0.6521739130434783\n",
      "2 Train score: 0.8426501035196687 Test score: 0.6521739130434783\n",
      "Train score: 0.8385093167701864 Test score: 0.6714975845410628\n",
      "3 Train score: 0.8385093167701864 Test score: 0.6714975845410628\n",
      "Train score: 0.8012422360248447 Test score: 0.6570048309178744\n",
      "4 Train score: 0.8012422360248447 Test score: 0.6570048309178744\n",
      "Train score: 0.8115942028985508 Test score: 0.6666666666666666\n",
      "5 Train score: 0.8115942028985508 Test score: 0.6666666666666666\n",
      "Train score: 0.7929606625258799 Test score: 0.6956521739130435\n",
      "6 Train score: 0.7929606625258799 Test score: 0.6956521739130435\n",
      "Train score: 0.7743271221532091 Test score: 0.6859903381642513\n",
      "7 Train score: 0.7743271221532091 Test score: 0.6859903381642513\n",
      "Train score: 0.7515527950310559 Test score: 0.6570048309178744\n",
      "8 Train score: 0.7515527950310559 Test score: 0.6570048309178744\n",
      "Train score: 0.7536231884057971 Test score: 0.6908212560386473\n",
      "9 Train score: 0.7536231884057971 Test score: 0.6908212560386473\n",
      "Train score: 0.7536231884057971 Test score: 0.6763285024154589\n",
      "10 Train score: 0.7536231884057971 Test score: 0.6763285024154589\n",
      "Train score: 0.7660455486542443 Test score: 0.7004830917874396\n",
      "11 Train score: 0.7660455486542443 Test score: 0.7004830917874396\n",
      "Train score: 0.7577639751552795 Test score: 0.6908212560386473\n",
      "12 Train score: 0.7577639751552795 Test score: 0.6908212560386473\n",
      "Train score: 0.7598343685300207 Test score: 0.7004830917874396\n",
      "13 Train score: 0.7598343685300207 Test score: 0.7004830917874396\n",
      "Train score: 0.7536231884057971 Test score: 0.6908212560386473\n",
      "14 Train score: 0.7536231884057971 Test score: 0.6908212560386473\n",
      "Train score: 0.7556935817805382 Test score: 0.6908212560386473\n",
      "15 Train score: 0.7556935817805382 Test score: 0.6908212560386473\n",
      "Train score: 0.7453416149068323 Test score: 0.7198067632850241\n",
      "16 Train score: 0.7453416149068323 Test score: 0.7198067632850241\n",
      "Train score: 0.7453416149068323 Test score: 0.7053140096618358\n",
      "17 Train score: 0.7453416149068323 Test score: 0.7053140096618358\n",
      "Train score: 0.7515527950310559 Test score: 0.7053140096618358\n",
      "18 Train score: 0.7515527950310559 Test score: 0.7053140096618358\n",
      "Train score: 0.7412008281573499 Test score: 0.7101449275362319\n",
      "19 Train score: 0.7412008281573499 Test score: 0.7101449275362319\n"
     ]
    },
    {
     "data": {
      "text/plain": [
       "<matplotlib.legend.Legend at 0x17ae00850>"
      ]
     },
     "execution_count": 95,
     "metadata": {},
     "output_type": "execute_result"
    },
    {
     "data": {
      "image/png": "[encoded data removed]",
      "text/plain": [
       "<Figure size 640x480 with 1 Axes>"
      ]
     },
     "metadata": {},
     "output_type": "display_data"
    }
   ],
   "source": [
    "from sklearn.neighbors import KNeighborsClassifier\n",
    "\n",
    "train_acc=[]\n",
    "test_acc=[]\n",
    "list_score=[]\n",
    "\n",
    "for i in range(2, 20):\n",
    "    knn = KNeighborsClassifier(n_neighbors=i)\n",
    "\n",
    "    knn.fit(x_train,y_train)\n",
    "\n",
    "    train_predict = knn.predict(x_train)\n",
    "    test_predict = knn.predict(x_test)\n",
    "\n",
    "    test_acc = accuracy_score(y_test, test_predict)\n",
    "    train_acc = accuracy_score(y_train, train_predict)\n",
    "    print('Train score:',train_acc,'Test score:',test_acc)\n",
    "    print(i,'Train score:',train_acc,'Test score:',test_acc)\n",
    "\n",
    "    list_score.append([i,accuracy_score(train_predict, y_train),accuracy_score(test_predict, y_test)]) \n",
    "    \n",
    "    \n",
    "df3 = DataFrame (list_score,columns=['n_neighbors','Train Accuracy','Test Accuracy'])\n",
    "plt.plot(df3['n_neighbors'],df3['Test Accuracy'],label='Test Accuracy')\n",
    "plt.plot(df3['n_neighbors'],df3['Train Accuracy'],label='Train Accuracy')\n",
    "plt.xlabel('n_neighbors')\n",
    "plt.ylabel('Accuracy')\n",
    "plt.legend() "
   ]
  },
  {
   "cell_type": "markdown",
   "id": "ed02d80c",
   "metadata": {},
   "source": [
    "# LOGISTIC REGRESSION"
   ]
  },
  {
   "cell_type": "code",
   "execution_count": 96,
   "id": "ca14feea",
   "metadata": {},
   "outputs": [
    {
     "data": {
      "text/html": [
       "<style>#sk-container-id-4 {color: black;}#sk-container-id-4 pre{padding: 0;}#sk-container-id-4 div.sk-toggleable {background-color: white;}#sk-container-id-4 label.sk-toggleable__label {cursor: pointer;display: block;width: 100%;margin-bottom: 0;padding: 0.3em;box-sizing: border-box;text-align: center;}#sk-container-id-4 label.sk-toggleable__label-arrow:before {content: \"▸\";float: left;margin-right: 0.25em;color: #696969;}#sk-container-id-4 label.sk-toggleable__label-arrow:hover:before {color: black;}#sk-container-id-4 div.sk-estimator:hover label.sk-toggleable__label-arrow:before {color: black;}#sk-container-id-4 div.sk-toggleable__content {max-height: 0;max-width: 0;overflow: hidden;text-align: left;background-color: #f0f8ff;}#sk-container-id-4 div.sk-toggleable__content pre {margin: 0.2em;color: black;border-radius: 0.25em;background-color: #f0f8ff;}#sk-container-id-4 input.sk-toggleable__control:checked~div.sk-toggleable__content {max-height: 200px;max-width: 100%;overflow: auto;}#sk-container-id-4 input.sk-toggleable__control:checked~label.sk-toggleable__label-arrow:before {content: \"▾\";}#sk-container-id-4 div.sk-estimator input.sk-toggleable__control:checked~label.sk-toggleable__label {background-color: #d4ebff;}#sk-container-id-4 div.sk-label input.sk-toggleable__control:checked~label.sk-toggleable__label {background-color: #d4ebff;}#sk-container-id-4 input.sk-hidden--visually {border: 0;clip: rect(1px 1px 1px 1px);clip: rect(1px, 1px, 1px, 1px);height: 1px;margin: -1px;overflow: hidden;padding: 0;position: absolute;width: 1px;}#sk-container-id-4 div.sk-estimator {font-family: monospace;background-color: #f0f8ff;border: 1px dotted black;border-radius: 0.25em;box-sizing: border-box;margin-bottom: 0.5em;}#sk-container-id-4 div.sk-estimator:hover {background-color: #d4ebff;}#sk-container-id-4 div.sk-parallel-item::after {content: \"\";width: 100%;border-bottom: 1px solid gray;flex-grow: 1;}#sk-container-id-4 div.sk-label:hover label.sk-toggleable__label {background-color: #d4ebff;}#sk-container-id-4 div.sk-serial::before {content: \"\";position: absolute;border-left: 1px solid gray;box-sizing: border-box;top: 0;bottom: 0;left: 50%;z-index: 0;}#sk-container-id-4 div.sk-serial {display: flex;flex-direction: column;align-items: center;background-color: white;padding-right: 0.2em;padding-left: 0.2em;position: relative;}#sk-container-id-4 div.sk-item {position: relative;z-index: 1;}#sk-container-id-4 div.sk-parallel {display: flex;align-items: stretch;justify-content: center;background-color: white;position: relative;}#sk-container-id-4 div.sk-item::before, #sk-container-id-4 div.sk-parallel-item::before {content: \"\";position: absolute;border-left: 1px solid gray;box-sizing: border-box;top: 0;bottom: 0;left: 50%;z-index: -1;}#sk-container-id-4 div.sk-parallel-item {display: flex;flex-direction: column;z-index: 1;position: relative;background-color: white;}#sk-container-id-4 div.sk-parallel-item:first-child::after {align-self: flex-end;width: 50%;}#sk-container-id-4 div.sk-parallel-item:last-child::after {align-self: flex-start;width: 50%;}#sk-container-id-4 div.sk-parallel-item:only-child::after {width: 0;}#sk-container-id-4 div.sk-dashed-wrapped {border: 1px dashed gray;margin: 0 0.4em 0.5em 0.4em;box-sizing: border-box;padding-bottom: 0.4em;background-color: white;}#sk-container-id-4 div.sk-label label {font-family: monospace;font-weight: bold;display: inline-block;line-height: 1.2em;}#sk-container-id-4 div.sk-label-container {text-align: center;}#sk-container-id-4 div.sk-container {/* jupyter's `normalize.less` sets `[hidden] { display: none; }` but bootstrap.min.css set `[hidden] { display: none !important; }` so we also need the `!important` here to be able to override the default hidden behavior on the sphinx rendered scikit-learn.org. See: https://github.com/scikit-learn/scikit-learn/issues/21755 */display: inline-block !important;position: relative;}#sk-container-id-4 div.sk-text-repr-fallback {display: none;}</style><div id=\"sk-container-id-4\" class=\"sk-top-container\"><div class=\"sk-text-repr-fallback\"><pre>LogisticRegression()</pre><b>In a Jupyter environment, please rerun this cell to show the HTML representation or trust the notebook. <br />On GitHub, the HTML representation is unable to render, please try loading this page with nbviewer.org.</b></div><div class=\"sk-container\" hidden><div class=\"sk-item\"><div class=\"sk-estimator sk-toggleable\"><input class=\"sk-toggleable__control sk-hidden--visually\" id=\"sk-estimator-id-4\" type=\"checkbox\" checked><label for=\"sk-estimator-id-4\" class=\"sk-toggleable__label sk-toggleable__label-arrow\">LogisticRegression</label><div class=\"sk-toggleable__content\"><pre>LogisticRegression()</pre></div></div></div></div></div>"
      ],
      "text/plain": [
       "LogisticRegression()"
      ]
     },
     "execution_count": 96,
     "metadata": {},
     "output_type": "execute_result"
    }
   ],
   "source": [
    "# Import MinMaxScaler\n",
    "from sklearn.preprocessing import MinMaxScaler\n",
    "# Instantiate MinMaxScaler and use it to rescale X_train and X_test\n",
    "scaler = MinMaxScaler(feature_range=(0,1))\n",
    "rescaledxTrain = scaler.fit_transform(x_train)\n",
    "rescaledxTest = scaler.fit_transform(x_test)\n",
    "\n",
    "# Import LogisticRegression\n",
    "from sklearn.linear_model import LogisticRegression \n",
    "# Instantiate a LogisticRegression classifier with default parameter values\n",
    "logreg = LogisticRegression()\n",
    "\n",
    "# Fit logreg to the train set\n",
    "logreg.fit(rescaledxTrain, y_train)"
   ]
  },
  {
   "cell_type": "code",
   "execution_count": 98,
   "id": "a86e39be",
   "metadata": {},
   "outputs": [
    {
     "name": "stdout",
     "output_type": "stream",
     "text": [
      "Test: Accuracy =  0.8502415458937198\n",
      "Train: Accuracy =  0.8799171842650103\n"
     ]
    }
   ],
   "source": [
    "# Import confusion_matrix\n",
    "from sklearn.metrics import confusion_matrix\n",
    "# Use logreg to predict instances from the test set and store it\n",
    "y_pred = logreg.predict(rescaledxTest)\n",
    "y_pred1 = logreg.predict(rescaledxTrain)\n",
    "\n",
    "# Get the accuracy score of logreg model and print it\n",
    "print(\"Test: Accuracy = \", logreg.score(rescaledxTest,y_test))\n",
    "print(\"Train: Accuracy = \", logreg.score(rescaledxTrain,y_train))\n",
    "\n"
   ]
  },
  {
   "cell_type": "code",
   "execution_count": null,
   "id": "527f5045",
   "metadata": {},
   "outputs": [],
   "source": []
  }
 ],
 "metadata": {
  "kernelspec": {
   "display_name": "Python 3 (ipykernel)",
   "language": "python",
   "name": "python3"
  },
  "language_info": {
   "codemirror_mode": {
    "name": "ipython",
    "version": 3
   },
   "file_extension": ".py",
   "mimetype": "text/x-python",
   "name": "python",
   "nbconvert_exporter": "python",
   "pygments_lexer": "ipython3",
   "version": "3.11.4"
  }
 },
 "nbformat": 4,
 "nbformat_minor": 5
}
